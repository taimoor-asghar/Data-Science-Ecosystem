{
 "cells": [
  {
   "cell_type": "markdown",
   "id": "fc50aef0-183f-41a7-8fec-9d777066b5bf",
   "metadata": {},
   "source": [
    "# Data Science Tools and Ecosystem"
   ]
  },
  {
   "cell_type": "markdown",
   "id": "c58500d6-6826-4fd3-914c-78f2409c541e",
   "metadata": {
    "tags": []
   },
   "source": [
    "## Introduction\n",
    "\n",
    "In this notebook, Data Science Tools and Ecosystem are summarized."
   ]
  },
  {
   "cell_type": "markdown",
   "id": "fbe88fcf-1971-4630-ad07-36aa9ec38f72",
   "metadata": {},
   "source": [
    "**Objectives:**\n",
    "\n",
    "- Explore popular programming languages for Data Science, such as Python and R.\n",
    "- Understand fundamental concepts of machine learning algorithms, including supervised and unsupervised learning techniques.\n",
    "- Apply data visualization techniques using libraries like Matplotlib and Seaborn to represent insights effectively.\n",
    "- Utilize pandas library for data manipulation, including data cleaning, filtering, and aggregation.\n",
    "- Gain familiarity with exploratory data analysis (EDA) methodologies and their significance in Data Science.\n",
    "\n"
   ]
  },
  {
   "cell_type": "markdown",
   "id": "fbfa02c0-0386-4cec-b19a-852b29e1d792",
   "metadata": {},
   "source": [
    "Some of the popular languages that Data Scientists use are:\n",
    "\n",
    "1. Python\n",
    "2. R\n",
    "3. SQL\n",
    "4. Julia\n"
   ]
  },
  {
   "cell_type": "markdown",
   "id": "c0f28b9a-9a0d-4c62-8512-9ff46e291d04",
   "metadata": {},
   "source": [
    "Some of the commonly used libraries used by Data Scientists include:\n",
    "- **NumPy**\n",
    "- **Pandas**\n",
    "- **Scikit-learn**"
   ]
  },
  {
   "cell_type": "markdown",
   "id": "ac2c015d-5214-4358-84a8-417008e10525",
   "metadata": {},
   "source": [
    "| Data Science Tools    |\n",
    "|-----------------------|\n",
    "| Jupyter Notebook      |\n",
    "| RStudio               |\n",
    "| VS Code with Python   |\n"
   ]
  },
  {
   "cell_type": "markdown",
   "id": "64e321e5-89a0-48de-91e9-946c925bf22e",
   "metadata": {
    "tags": []
   },
   "source": [
    "### Below are a few examples of evaluating arithmetic expressions in Python"
   ]
  },
  {
   "cell_type": "markdown",
   "id": "deaf81a9-e668-4ad7-a7dd-d6defccde8f3",
   "metadata": {},
   "source": [
    "#### This is a simple arithmetic expression to multiply then add integers."
   ]
  },
  {
   "cell_type": "code",
   "execution_count": 3,
   "id": "5c33149c-4bdf-4781-a606-9b5140b29f6c",
   "metadata": {
    "tags": []
   },
   "outputs": [
    {
     "name": "stdout",
     "output_type": "stream",
     "text": [
      "17\n"
     ]
    }
   ],
   "source": [
    "result = (3 * 4) + 5\n",
    "print(result)\n"
   ]
  },
  {
   "cell_type": "markdown",
   "id": "88dad240-6ff8-4678-a13b-dd246e297901",
   "metadata": {
    "tags": []
   },
   "source": [
    "#### This will convert 200 minutes to hours by dividing by 60\n"
   ]
  },
  {
   "cell_type": "code",
   "execution_count": 5,
   "id": "1a6c7c73-2344-410a-ac46-b8fde2f73fcd",
   "metadata": {
    "tags": []
   },
   "outputs": [
    {
     "name": "stdout",
     "output_type": "stream",
     "text": [
      "3.3333333333333335\n"
     ]
    }
   ],
   "source": [
    "minutes = 200\n",
    "hours = minutes / 60\n",
    "print(hours)"
   ]
  },
  {
   "cell_type": "markdown",
   "id": "9e7b4f6e-202a-4f04-bdd3-fec5b6eb0837",
   "metadata": {},
   "source": [
    "## Author\n",
    "Taimoor Asghar\n"
   ]
  },
  {
   "cell_type": "code",
   "execution_count": null,
   "id": "793e430f-47fe-4e62-875f-01b5aeb25531",
   "metadata": {},
   "outputs": [],
   "source": []
  }
 ],
 "metadata": {
  "kernelspec": {
   "display_name": "Python",
   "language": "python",
   "name": "conda-env-python-py"
  },
  "language_info": {
   "codemirror_mode": {
    "name": "ipython",
    "version": 3
   },
   "file_extension": ".py",
   "mimetype": "text/x-python",
   "name": "python",
   "nbconvert_exporter": "python",
   "pygments_lexer": "ipython3",
   "version": "3.7.12"
  }
 },
 "nbformat": 4,
 "nbformat_minor": 5
}
